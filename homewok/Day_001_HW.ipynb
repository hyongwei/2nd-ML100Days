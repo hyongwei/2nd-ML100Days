{
 "cells": [
  {
   "cell_type": "markdown",
   "metadata": {},
   "source": [
    "# <font color=black size=5>作業1：</font>\n",
    "    \n",
    "<font color=black size=4>    \n",
    "請上 Kaggle, 在 Competitions 或 Dataset 中找一組競賽或資料並寫下：\n",
    "  \n",
    "  https://www.kaggle.com/tsiaras/uk-road-safety-accidents-and-vehicles\n",
    "</font>\n",
    "\n",
    "\n",
    "<font color=black size=4>1. 你選的這組資料為何重要 ?</font>\n",
    "\n",
    "a.了解常發生事故的地點是否皆有相類似的關聯特徵\n",
    "b.了解事故地點與事故車輛之所包含特徵的潛在關係\n",
    "  \n",
    "  可做為未來在改善交通道路系統時的參考依據，可以了解目前的交通設計上有那些潛在問題\n",
    "\n",
    "\n",
    "<font color=black size=4>2. 資料從何而來 ? (tips: 譬如提供者是誰、以什麼方式蒐集)</font>\n",
    "\n",
    "The data come from the Open Data website of the UK government\n",
    "透過抓取公部門歷年交通事故紀錄資料，並進行處理編輯\n",
    "\n",
    "\n",
    "<font color=black size=4>3. 蒐集而來的資料型態為何 ?</font>\n",
    "\n",
    "包含兩個csv文件：  \n",
    "Accident_Information.csv：\n",
    "  \n",
    "  文件中的每一行代表一個唯一的交通事故（由Accident_Index列標示），其中每列包含與事故相關的各種屬性。資料日期：2005-2017\n",
    "Vehicle_Information.csv：\n",
    "  \n",
    "  文件中的每一行代表獨特車輛參與獨特的交通事故，以車輛和乘客的各種屬性為特徵。資料日期：2004-2016\n",
    "\n",
    "\n",
    "<font color=black size=4>4. 這組資料想解決的問題如何評估 ?</font>\n",
    "\n",
    "a. 分群問題: 了解事故地點間具那些相同特徵關係，是否存在相同的設計問題。\n",
    "  \n",
    "  b. 分類問題: 新興交通系統時可根據訓練後的模型預測此系統可能潛在的安全問題。\n",
    "\n"
   ]
  },
  {
   "cell_type": "markdown",
   "metadata": {},
   "source": [
    "\n",
    "\n",
    "<font color=black size=5>作業2 :</font>\n",
    "\n",
    "\n",
    "\n",
    "<font color=black size=4>\n",
    "  \n",
    "  \n",
    "  想像你經營一個自由載客車隊，你希望能透過數據分析以提升業績，請你思考並描述你如何規劃整體的分析/解決方案：\n",
    "</font>\n",
    "\n",
    "\n",
    "<font color=black size=2>1. 核心問題為何 (tips：如何定義 「提升業績 & 你的假設」)</font>\n",
    "\n",
    "  \n",
    "  a.精準預測人潮集中時間與位置變化關係，以最大效益調派車輛。\n",
    "  \n",
    "  b.了解載客績效好的車輛的各項數據特徵，以進行車隊中其他車輛的訓練和優化。\n",
    "\n",
    "<font color=black size=2>2. 資料從何而來 (tips：哪些資料可能會對你想問的問題產生影響 & 資料如何蒐集)</font>\n",
    "  \n",
    "  a.行車紀錄裝置:搭車人數、乘客資訊、搭車時間、搭車地點、搭車距離、搭車路線、叫車方式等等  \n",
    "\n",
    "<font color=black size=2>3. 蒐集而來的資料型態為何</font>\n",
    "\n",
    "  str,int,datetime,boolean\n",
    "\n",
    "<font color=black size=2>4. 你要回答的問題，其如何評估 (tips：你的假設如何驗證)</font>\n",
    "\n",
    "  回歸問題，以先前資料預測每個區域下一時段可能搭車的人數，之後再透過評估函式了解模型表現\n",
    "  "
   ]
  },
  {
   "cell_type": "markdown",
   "metadata": {},
   "source": [
    "## 練習時間\n",
    "#### 請寫一個函式用來計算 Mean Square Error\n",
    "$ MSE = \\frac{1}{n}\\sum_{i=1}^{n}{(Y_i - \\hat{Y}_i)^2} $\n",
    "\n",
    "### Hint: [如何取平方](https://googoodesign.gitbooks.io/-ezpython/unit-1.html)"
   ]
  },
  {
   "cell_type": "code",
   "execution_count": 34,
   "metadata": {},
   "outputs": [],
   "source": [
    "import numpy as np\n",
    "import matplotlib.pyplot as plt\n"
   ]
  },
  {
   "cell_type": "code",
   "execution_count": 35,
   "metadata": {},
   "outputs": [],
   "source": [
    "def mean_squared_error(y,y_h):\n",
    "    \"\"\"\n",
    "    請完成這個 Function 後往下執行\n",
    "    \"\"\"\n",
    "    mse = sum((y-y_h)**2)/len(y)\n",
    "    return mse"
   ]
  },
  {
   "cell_type": "code",
   "execution_count": 36,
   "metadata": {},
   "outputs": [],
   "source": [
    "def mean_absolute_error(y,y_h):\n",
    "    \"\"\"\n",
    "    請完成這個 Function 後往下執行\n",
    "    \"\"\"\n",
    "    mae = sum(abs(y-y_h))/len(y)\n",
    "    return mae"
   ]
  },
  {
   "cell_type": "code",
   "execution_count": 37,
   "metadata": {},
   "outputs": [
    {
     "data": {
      "image/png": "[encoded data removed]",
      "text/plain": [
       "<Figure size 432x288 with 1 Axes>"
      ]
     },
     "metadata": {
      "needs_background": "light"
     },
     "output_type": "display_data"
    }
   ],
   "source": [
    "w = 3\n",
    "b = 0.5\n",
    "\n",
    "x_lin = np.linspace(0, 100, 101)\n",
    "\n",
    "y = (x_lin + np.random.randn(101) * 5) * w + b\n",
    "\n",
    "plt.plot(x_lin, y, 'b.', label = 'data points')\n",
    "plt.title(\"Assume we have data points\")\n",
    "plt.legend(loc = 2)\n",
    "plt.show()"
   ]
  },
  {
   "cell_type": "code",
   "execution_count": 38,
   "metadata": {},
   "outputs": [
    {
     "data": {
      "image/png": "[encoded data removed]",
      "text/plain": [
       "<Figure size 432x288 with 1 Axes>"
      ]
     },
     "metadata": {
      "needs_background": "light"
     },
     "output_type": "display_data"
    }
   ],
   "source": [
    "y_hat = x_lin * w + b\n",
    "plt.plot(x_lin, y, 'b.', label = 'data')\n",
    "plt.plot(x_lin, y_hat, 'r-', label = 'prediction')\n",
    "plt.title(\"Assume we have data points (And the prediction)\")\n",
    "plt.legend(loc = 2)\n",
    "plt.show()"
   ]
  },
  {
   "cell_type": "code",
   "execution_count": 39,
   "metadata": {},
   "outputs": [
    {
     "name": "stdout",
     "output_type": "stream",
     "text": [
      "The Mean squared error is 178.451\n",
      "The Mean absolute error is 10.385\n"
     ]
    }
   ],
   "source": [
    "# 執行 Function, 確認有沒有正常執行\n",
    "MSE = mean_squared_error(y, y_hat)\n",
    "MAE = mean_absolute_error(y, y_hat)\n",
    "print(\"The Mean squared error is %.3f\" % (MSE))\n",
    "print(\"The Mean absolute error is %.3f\" % (MAE))"
   ]
  },
  {
   "cell_type": "code",
   "execution_count": null,
   "metadata": {},
   "outputs": [],
   "source": []
  }
 ],
 "metadata": {
  "anaconda-cloud": {},
  "kernelspec": {
   "display_name": "Python 3",
   "language": "python",
   "name": "python3"
  },
  "language_info": {
   "codemirror_mode": {
    "name": "ipython",
    "version": 3
   },
   "file_extension": ".py",
   "mimetype": "text/x-python",
   "name": "python",
   "nbconvert_exporter": "python",
   "pygments_lexer": "ipython3",
   "version": "3.7.2"
  }
 },
 "nbformat": 4,
 "nbformat_minor": 1
}
